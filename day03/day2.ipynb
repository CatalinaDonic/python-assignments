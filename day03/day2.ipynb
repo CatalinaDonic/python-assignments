{
 "cells": [
  {
   "cell_type": "code",
   "execution_count": 2,
   "metadata": {},
   "outputs": [
    {
     "name": "stdout",
     "output_type": "stream",
     "text": [
      "Rectangle area: 25.0\n",
      "Rectagle circumference: 20.0\n",
      "Circle area: 78.53981633974483\n",
      "Circle circumference: 31.41592653589793\n"
     ]
    }
   ],
   "source": [
    "rectangle_width = float(input(\"Enter width of the rectangle:\"))\n",
    "rectangle_height = float(input(\"Enter height of the rectangle:\"))\n",
    "area = rectangle_width*rectangle_height\n",
    "circumference = 2*rectangle_width+2*rectangle_height\n",
    "print(\"Rectangle area:\", area)\n",
    "print(\"Rectagle circumference:\", circumference)\n",
    "\n",
    "import math\n",
    "radius = float(input(\"Enter radius of the circle:\"))\n",
    "area = math.pi*radius**2\n",
    "circumference = 2*math.pi*radius\n",
    "print(\"Circle area:\", area)\n",
    "print(\"Circle circumference:\", circumference)"
   ]
  },
  {
   "cell_type": "code",
   "execution_count": null,
   "metadata": {},
   "outputs": [],
   "source": []
  }
 ],
 "metadata": {
  "kernelspec": {
   "display_name": "base",
   "language": "python",
   "name": "python3"
  },
  "language_info": {
   "codemirror_mode": {
    "name": "ipython",
    "version": 3
   },
   "file_extension": ".py",
   "mimetype": "text/x-python",
   "name": "python",
   "nbconvert_exporter": "python",
   "pygments_lexer": "ipython3",
   "version": "3.7.4"
  }
 },
 "nbformat": 4,
 "nbformat_minor": 2
}
